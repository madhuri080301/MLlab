{
 "cells": [
  {
   "cell_type": "code",
   "execution_count": 3,
   "id": "810ba740",
   "metadata": {},
   "outputs": [
    {
     "name": "stdout",
     "output_type": "stream",
     "text": [
      "mean 40.0\n"
     ]
    }
   ],
   "source": [
    "#mean\n",
    "def mean(list):\n",
    "    \n",
    "    sum=0\n",
    "    for i in list:\n",
    "        sum=sum+i\n",
    "        \n",
    "    mean=sum/len(list)\n",
    "    return mean\n",
    "list=(10,20,30,40,50,60,70)\n",
    "print(\"mean\",mean(list))"
   ]
  },
  {
   "cell_type": "code",
   "execution_count": 6,
   "id": "f9be3a04",
   "metadata": {},
   "outputs": [
    {
     "name": "stdout",
     "output_type": "stream",
     "text": [
      "median 40\n"
     ]
    }
   ],
   "source": [
    "#median\n",
    "l1=(10,20,30,40,50,60,70)\n",
    "i=int(len(l1)/2)\n",
    "if(i%2==0):\n",
    "    res=(l1[i]+l1[i+1])/2\n",
    "else:\n",
    "    res=l1[i]\n",
    "print(\"median\",res)    "
   ]
  },
  {
   "cell_type": "code",
   "execution_count": 8,
   "id": "108ada92",
   "metadata": {},
   "outputs": [
    {
     "name": "stdout",
     "output_type": "stream",
     "text": [
      "MODE 30\n"
     ]
    }
   ],
   "source": [
    "#mode\n",
    "l1=(10,20,30,30,40,50,60,70)\n",
    "d={}\n",
    "for i in l1:\n",
    "    if i in d:\n",
    "        d[i]=d[i]+1\n",
    "    else:\n",
    "        d[i]=1\n",
    "max=0\n",
    "for i in d:\n",
    "    if(d[i]>max):\n",
    "        max=d[i]\n",
    "        ans=i\n",
    "print(\"MODE\",ans)        \n",
    "        \n",
    "        "
   ]
  },
  {
   "cell_type": "code",
   "execution_count": 9,
   "id": "924d344d",
   "metadata": {},
   "outputs": [
    {
     "name": "stdout",
     "output_type": "stream",
     "text": [
      "variance 400.0\n"
     ]
    }
   ],
   "source": [
    "#variance\n",
    "def var(l):\n",
    "    ans=mean(l)\n",
    "    \n",
    "    sum=0\n",
    "    for i in l:\n",
    "        sum+=(ans-i)**2\n",
    "        \n",
    "    return sum/len(l)\n",
    "l=(10,20,30,40,50,60,70)\n",
    "print(\"variance\",var(l))"
   ]
  },
  {
   "cell_type": "code",
   "execution_count": 11,
   "id": "f94de495",
   "metadata": {},
   "outputs": [
    {
     "name": "stdout",
     "output_type": "stream",
     "text": [
      "standard deviation 20.0\n"
     ]
    }
   ],
   "source": [
    "#standard deviation\n",
    "def sd(l):\n",
    "    temp=var(l)\n",
    "    return temp**0.5\n",
    "\n",
    "l=(10,20,30,40,50,60,70)\n",
    "print(\"standard deviation\",sd(l))"
   ]
  },
  {
   "cell_type": "code",
   "execution_count": null,
   "id": "2011b544",
   "metadata": {},
   "outputs": [],
   "source": []
  }
 ],
 "metadata": {
  "kernelspec": {
   "display_name": "Python 3 (ipykernel)",
   "language": "python",
   "name": "python3"
  },
  "language_info": {
   "codemirror_mode": {
    "name": "ipython",
    "version": 3
   },
   "file_extension": ".py",
   "mimetype": "text/x-python",
   "name": "python",
   "nbconvert_exporter": "python",
   "pygments_lexer": "ipython3",
   "version": "3.7.11"
  }
 },
 "nbformat": 4,
 "nbformat_minor": 5
}
